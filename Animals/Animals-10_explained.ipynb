{
 "cells": [
  {
   "cell_type": "markdown",
   "id": "b8d257ed",
   "metadata": {},
   "source": [
    "# Example Two: Animals-10"
   ]
  },
  {
   "cell_type": "markdown",
   "id": "bacc1298",
   "metadata": {},
   "source": [
    "**In this example, I will do the following:**\n",
    "\n",
    "    1. Build my own model and eval\n",
    "    2. Use pretrained model and best weights possible and compare\n",
    "    3. Choose the best model and plot the loss curves and confusion matrix"
   ]
  },
  {
   "cell_type": "code",
   "execution_count": 7,
   "id": "2c378f4e",
   "metadata": {},
   "outputs": [],
   "source": [
    "import torch\n",
    "import torchvision\n",
    "import matplotlib.pyplot as plt\n",
    "import numpy as np\n",
    "import torchmetrics\n",
    "\n",
    "from torch import nn\n",
    "from torchvision import datasets, transforms\n",
    "from torchvision.transforms import ToTensor\n",
    "from torchmetrics import Accuracy, ConfusionMatrix\n",
    "from torch.utils.data import DataLoader\n",
    "from mlxtend.plotting import plot_confusion_matrix\n",
    "from tqdm.auto import tqdm\n",
    "from torch.utils.tensorboard import SummaryWriter"
   ]
  },
  {
   "cell_type": "code",
   "execution_count": 8,
   "id": "bc216e16",
   "metadata": {},
   "outputs": [
    {
     "name": "stdout",
     "output_type": "stream",
     "text": [
      "PyTorch Version: 1.13.1\n",
      "torchvision Version: 0.14.1\n"
     ]
    }
   ],
   "source": [
    "print(f'PyTorch Version: {torch.__version__}')\n",
    "print(f'torchvision Version: {torchvision.__version__}')"
   ]
  },
  {
   "cell_type": "markdown",
   "id": "13a86e62",
   "metadata": {},
   "source": [
    "## 1. Data Preparation and Exploration"
   ]
  },
  {
   "cell_type": "code",
   "execution_count": 5,
   "id": "2e9efb52",
   "metadata": {},
   "outputs": [],
   "source": [
    "%load_ext tensorboard"
   ]
  },
  {
   "cell_type": "code",
   "execution_count": 6,
   "id": "3d367c2d",
   "metadata": {},
   "outputs": [
    {
     "name": "stderr",
     "output_type": "stream",
     "text": [
      "UsageError: Line magic function `%tensorboad` not found.\n"
     ]
    }
   ],
   "source": [
    "%tensorboad --logdir logs"
   ]
  },
  {
   "cell_type": "code",
   "execution_count": null,
   "id": "2614ddab",
   "metadata": {},
   "outputs": [],
   "source": []
  }
 ],
 "metadata": {
  "kernelspec": {
   "display_name": "Python 3 (ipykernel)",
   "language": "python",
   "name": "python3"
  },
  "language_info": {
   "codemirror_mode": {
    "name": "ipython",
    "version": 3
   },
   "file_extension": ".py",
   "mimetype": "text/x-python",
   "name": "python",
   "nbconvert_exporter": "python",
   "pygments_lexer": "ipython3",
   "version": "3.10.2"
  }
 },
 "nbformat": 4,
 "nbformat_minor": 5
}
