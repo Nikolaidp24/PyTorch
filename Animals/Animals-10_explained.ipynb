{
 "cells": [
  {
   "cell_type": "markdown",
   "id": "187b601f",
   "metadata": {},
   "source": [
    "# Example Two: Animals-10"
   ]
  },
  {
   "cell_type": "markdown",
   "id": "46b093d4",
   "metadata": {},
   "source": [
    "**In this example, I will do the following:**\n",
    "\n",
    "    1. Build my own model and eval\n",
    "    2. Use pretrained model and best weights possible and compare\n",
    "    3. Choose the best model and plot the loss curves and confusion matrix"
   ]
  },
  {
   "cell_type": "code",
   "execution_count": 2,
   "id": "2c378f4e",
   "metadata": {},
   "outputs": [],
   "source": [
    "import os\n",
    "import torch\n",
    "import torchvision\n",
    "import matplotlib.pyplot as plt\n",
    "import numpy as np\n",
    "import torchmetrics\n",
    "\n",
    "from typing import List, Dict, Tuple, Final\n",
    "from torch import nn\n",
    "from torchvision import datasets, transforms\n",
    "from torchvision.transforms import ToTensor\n",
    "from torchmetrics import Accuracy, ConfusionMatrix\n",
    "from torch.utils.data import DataLoader\n",
    "from mlxtend.plotting import plot_confusion_matrix\n",
    "from tqdm.auto import tqdm\n",
    "from torch.utils.tensorboard import SummaryWriter"
   ]
  },
  {
   "cell_type": "code",
   "execution_count": 3,
   "id": "aa8cd240",
   "metadata": {},
   "outputs": [
    {
     "name": "stdout",
     "output_type": "stream",
     "text": [
      "PyTorch Version: 1.13.1\n",
      "torchvision Version: 0.14.1\n"
     ]
    }
   ],
   "source": [
    "print(f'PyTorch Version: {torch.__version__}')\n",
    "print(f'torchvision Version: {torchvision.__version__}')"
   ]
  },
  {
   "cell_type": "markdown",
   "id": "43af1342",
   "metadata": {},
   "source": [
    "## 1. Data Preparation and Exploration"
   ]
  },
  {
   "cell_type": "code",
   "execution_count": 4,
   "id": "f5ff9962",
   "metadata": {},
   "outputs": [],
   "source": [
    "# instantiate tensorboard writer\n",
    "writer = SummaryWriter()"
   ]
  },
  {
   "cell_type": "code",
   "execution_count": 5,
   "id": "eecac59f",
   "metadata": {},
   "outputs": [],
   "source": [
    "# setting up the training and testing directory\n",
    "train_dir = 'raw-img/train'\n",
    "test_dir = 'raw-img/test'"
   ]
  },
  {
   "cell_type": "code",
   "execution_count": 6,
   "id": "cf37c7f0",
   "metadata": {},
   "outputs": [],
   "source": [
    "# set up train and test transforms, using TrivialAugmentWide to transform train data for more accuracy\n",
    "train_transform = transforms.Compose([\n",
    "    transforms.Resize(size=(244, 244)),\n",
    "    transforms.TrivialAugmentWide(num_magnitude_bins=31),\n",
    "    transforms.ToTensor()\n",
    "])\n",
    "\n",
    "test_transform = transforms.Compose([\n",
    "    transforms.Resize(size=(244, 244)),\n",
    "    transforms.ToTensor()\n",
    "])"
   ]
  },
  {
   "cell_type": "code",
   "execution_count": 7,
   "id": "7b98dbec",
   "metadata": {},
   "outputs": [],
   "source": [
    "# set up train and test data using ImageFolder\n",
    "train_data = datasets.ImageFolder(\n",
    "    root=train_dir,\n",
    "    transform=train_transform,\n",
    "    target_transform=None\n",
    ")\n",
    "\n",
    "test_data = datasets.ImageFolder(\n",
    "    root=test_dir,\n",
    "    transform=test_transform,\n",
    "    target_transform=None\n",
    ")"
   ]
  },
  {
   "cell_type": "code",
   "execution_count": 8,
   "id": "649c7ab2",
   "metadata": {},
   "outputs": [
    {
     "data": {
      "text/plain": [
       "(Dataset ImageFolder\n",
       "     Number of datapoints: 20882\n",
       "     Root location: raw-img/train\n",
       "     StandardTransform\n",
       " Transform: Compose(\n",
       "                Resize(size=(244, 244), interpolation=bilinear, max_size=None, antialias=None)\n",
       "                TrivialAugmentWide(num_magnitude_bins=31, interpolation=InterpolationMode.NEAREST, fill=None)\n",
       "                ToTensor()\n",
       "            ),\n",
       " Dataset ImageFolder\n",
       "     Number of datapoints: 5297\n",
       "     Root location: raw-img/test\n",
       "     StandardTransform\n",
       " Transform: Compose(\n",
       "                Resize(size=(244, 244), interpolation=bilinear, max_size=None, antialias=None)\n",
       "                ToTensor()\n",
       "            ))"
      ]
     },
     "execution_count": 8,
     "metadata": {},
     "output_type": "execute_result"
    }
   ],
   "source": [
    "train_data, test_data"
   ]
  },
  {
   "cell_type": "code",
   "execution_count": 9,
   "id": "4df02117",
   "metadata": {},
   "outputs": [
    {
     "data": {
      "text/plain": [
       "['butterfly',\n",
       " 'cat',\n",
       " 'chicken',\n",
       " 'cow',\n",
       " 'dog',\n",
       " 'elephant',\n",
       " 'horse',\n",
       " 'sheep',\n",
       " 'spider',\n",
       " 'squirrel']"
      ]
     },
     "execution_count": 9,
     "metadata": {},
     "output_type": "execute_result"
    }
   ],
   "source": [
    "train_data.classes"
   ]
  },
  {
   "cell_type": "code",
   "execution_count": 10,
   "id": "7724ae17",
   "metadata": {},
   "outputs": [
    {
     "data": {
      "text/plain": [
       "True"
      ]
     },
     "execution_count": 10,
     "metadata": {},
     "output_type": "execute_result"
    }
   ],
   "source": [
    "train_data.classes == test_data.classes"
   ]
  },
  {
   "cell_type": "code",
   "execution_count": 11,
   "id": "16c0655e",
   "metadata": {},
   "outputs": [],
   "source": [
    "class_names = train_data.classes"
   ]
  },
  {
   "cell_type": "code",
   "execution_count": 12,
   "id": "a9975a66",
   "metadata": {},
   "outputs": [],
   "source": [
    "image, label = next(iter(train_data))"
   ]
  },
  {
   "cell_type": "code",
   "execution_count": 13,
   "id": "61a56ab3",
   "metadata": {},
   "outputs": [
    {
     "data": {
      "text/plain": [
       "(torch.Size([3, 244, 244]), 'butterfly')"
      ]
     },
     "execution_count": 13,
     "metadata": {},
     "output_type": "execute_result"
    }
   ],
   "source": [
    "image.shape, class_names[label]"
   ]
  },
  {
   "cell_type": "code",
   "execution_count": 14,
   "id": "07c8974e",
   "metadata": {},
   "outputs": [],
   "source": [
    "# make a function to preview an image\n",
    "def preview_image(data: Tuple):\n",
    "    plt.imshow(data[0].permute(1, 2, 0))\n",
    "#     plt.axis(False)\n",
    "    plt.xlabel(class_names[data[1]])\n",
    "    plt.ylabel(data[0].shape)\n",
    "    plt.show()"
   ]
  },
  {
   "cell_type": "code",
   "execution_count": 15,
   "id": "293eb914",
   "metadata": {},
   "outputs": [
    {
     "data": {
      "image/png": "[encoded data removed]",
      "text/plain": [
       "<Figure size 640x480 with 1 Axes>"
      ]
     },
     "metadata": {},
     "output_type": "display_data"
    }
   ],
   "source": [
    "preview_image(train_data[0])"
   ]
  },
  {
   "cell_type": "code",
   "execution_count": 16,
   "id": "19ce38d7",
   "metadata": {},
   "outputs": [],
   "source": [
    "# set up dataloader\n",
    "BATCH_SIZE : Final = 128\n",
    "    \n",
    "train_dataloader = DataLoader(\n",
    "    dataset=train_data,\n",
    "    batch_size=128,\n",
    "    num_workers=os.cpu_count(),\n",
    "    shuffle=True\n",
    ")\n",
    "\n",
    "test_dataloader = DataLoader(\n",
    "    dataset=test_data,\n",
    "    batch_size=128,\n",
    "    num_workers=os.cpu_count(),\n",
    "    shuffle=False\n",
    ")"
   ]
  },
  {
   "cell_type": "code",
   "execution_count": 17,
   "id": "832f9214",
   "metadata": {},
   "outputs": [
    {
     "data": {
      "text/plain": [
       "(<torch.utils.data.dataloader.DataLoader at 0x28dd6b310>,\n",
       " <torch.utils.data.dataloader.DataLoader at 0x28dd6b940>)"
      ]
     },
     "execution_count": 17,
     "metadata": {},
     "output_type": "execute_result"
    }
   ],
   "source": [
    "train_dataloader, test_dataloader"
   ]
  },
  {
   "cell_type": "markdown",
   "id": "c9f86337",
   "metadata": {},
   "source": [
    "## 2. Building Baseline Model"
   ]
  },
  {
   "cell_type": "code",
   "execution_count": 18,
   "id": "2cafa58e",
   "metadata": {},
   "outputs": [],
   "source": [
    "class AnimalsBaselineModel(nn.Module):\n",
    "    def __init__(self, input_shape, output_shape, hidden_units):\n",
    "        super().__init__()\n",
    "        self.block1 = nn.Sequential(\n",
    "            nn.Conv2d(\n",
    "                in_channels=input_shape,\n",
    "                out_channels=hidden_units,\n",
    "                kernel_size=3,\n",
    "                stride=2,\n",
    "                padding=0\n",
    "            ),\n",
    "            nn.ReLU(),\n",
    "            nn.Conv2d(\n",
    "                in_channels=hidden_units,\n",
    "                out_channels=hidden_units,\n",
    "                kernel_size=3,\n",
    "                stride=2,\n",
    "                padding=0\n",
    "            ),\n",
    "            nn.ReLU(),\n",
    "            nn.MaxPool2d(kernel_size=2)\n",
    "        )\n",
    "        self.block2 = nn.Sequential(\n",
    "            nn.Conv2d(\n",
    "                in_channels=hidden_units,\n",
    "                out_channels=hidden_units,\n",
    "                kernel_size=3,\n",
    "                stride=2,\n",
    "                padding=0\n",
    "            ),\n",
    "            nn.ReLU(),\n",
    "            nn.Conv2d(\n",
    "                in_channels=hidden_units,\n",
    "                out_channels=hidden_units,\n",
    "                kernel_size=3,\n",
    "                stride=2,\n",
    "                padding=0\n",
    "            ),\n",
    "            nn.ReLU(),\n",
    "            nn.MaxPool2d(kernel_size=2)\n",
    "        )\n",
    "        self.classifier = nn.Sequential(\n",
    "            nn.Flatten(),\n",
    "            nn.Linear(\n",
    "                in_features=hidden_units * 3 * 3,\n",
    "                out_features=output_shape\n",
    "            )\n",
    "        )\n",
    "        \n",
    "    def forward(self, x: torch.Tensor) -> torch.Tensor:\n",
    "        return self.classifier(self.block2(self.block1(x)))\n",
    "    \n",
    "    def __name__(self):\n",
    "        return 'AnimalsBaselineModel'"
   ]
  },
  {
   "cell_type": "code",
   "execution_count": 19,
   "id": "276316fb",
   "metadata": {},
   "outputs": [],
   "source": [
    "model_0 = AnimalsBaselineModel(input_shape=3, output_shape=10, hidden_units=50)"
   ]
  },
  {
   "cell_type": "code",
   "execution_count": 20,
   "id": "f07f4cfd",
   "metadata": {},
   "outputs": [
    {
     "data": {
      "text/plain": [
       "AnimalsBaselineModel(\n",
       "  (block1): Sequential(\n",
       "    (0): Conv2d(3, 50, kernel_size=(3, 3), stride=(2, 2))\n",
       "    (1): ReLU()\n",
       "    (2): Conv2d(50, 50, kernel_size=(3, 3), stride=(2, 2))\n",
       "    (3): ReLU()\n",
       "    (4): MaxPool2d(kernel_size=2, stride=2, padding=0, dilation=1, ceil_mode=False)\n",
       "  )\n",
       "  (block2): Sequential(\n",
       "    (0): Conv2d(50, 50, kernel_size=(3, 3), stride=(2, 2))\n",
       "    (1): ReLU()\n",
       "    (2): Conv2d(50, 50, kernel_size=(3, 3), stride=(2, 2))\n",
       "    (3): ReLU()\n",
       "    (4): MaxPool2d(kernel_size=2, stride=2, padding=0, dilation=1, ceil_mode=False)\n",
       "  )\n",
       "  (classifier): Sequential(\n",
       "    (0): Flatten(start_dim=1, end_dim=-1)\n",
       "    (1): Linear(in_features=450, out_features=10, bias=True)\n",
       "  )\n",
       ")"
      ]
     },
     "execution_count": 20,
     "metadata": {},
     "output_type": "execute_result"
    }
   ],
   "source": [
    "model_0"
   ]
  },
  {
   "cell_type": "code",
   "execution_count": 19,
   "id": "30f9c84b",
   "metadata": {},
   "outputs": [],
   "source": [
    "dummy = torch.randn(size=(3, 244, 244))"
   ]
  },
  {
   "cell_type": "code",
   "execution_count": 21,
   "id": "9c818def",
   "metadata": {},
   "outputs": [
    {
     "data": {
      "text/plain": [
       "(tensor([5]), tensor([5]), 'elephant')"
      ]
     },
     "execution_count": 21,
     "metadata": {},
     "output_type": "execute_result"
    }
   ],
   "source": [
    "# use a dummy data to detect any fault in the model\n",
    "with torch.inference_mode():\n",
    "    dummy_pred = model_0(dummy.unsqueeze(0))\n",
    "torch.softmax(dummy_pred, dim=1).argmax(dim=1), dummy_pred.argmax(dim=1), class_names[dummy_pred.argmax(dim=1)]"
   ]
  },
  {
   "cell_type": "markdown",
   "id": "447efaf8",
   "metadata": {},
   "source": [
    "## 2. Setup Train and Test Loop"
   ]
  },
  {
   "cell_type": "code",
   "execution_count": 20,
   "id": "bc5355f1",
   "metadata": {},
   "outputs": [],
   "source": [
    "def train_step(\n",
    "    model: nn.Module,\n",
    "    loss_function: nn.Module,\n",
    "    accuracy_function,\n",
    "    optim: torch.optim.Optimizer,\n",
    "    dataloader: torch.utils.data.DataLoader\n",
    "):\n",
    "    train_loss, train_acc = 0, 0\n",
    "    model.train()\n",
    "    print('Starting training cycle:\\n------------')\n",
    "    \n",
    "    for batch, (X, y) in enumerate(tqdm(dataloader)):\n",
    "#         X, y = X.to('mps'), y.to('mps')\n",
    "        y_pred = model(X)\n",
    "        loss = loss_function(y_pred, y)\n",
    "        train_loss += loss\n",
    "        train_acc += accuracy_function(y_pred.argmax(dim=1), y)\n",
    "        optim.zero_grad()\n",
    "        loss.backward()\n",
    "        optim.step()\n",
    "        \n",
    "    train_loss /= len(dataloader)\n",
    "    train_acc /= len(dataloader)\n",
    "    \n",
    "    return train_loss, train_acc*100"
   ]
  },
  {
   "cell_type": "code",
   "execution_count": 21,
   "id": "e17448d1",
   "metadata": {},
   "outputs": [],
   "source": [
    "def test_step(\n",
    "    model: nn.Module,\n",
    "    loss_function: nn.Module,\n",
    "    accuracy_function,\n",
    "    dataloader: torch.utils.data.DataLoader\n",
    "):\n",
    "    test_loss, test_acc = 0, 0\n",
    "    model.eval()\n",
    "    print('Starting testing cycle:\\n--------------')\n",
    "    with torch.inference_mode():\n",
    "        for batch, (X, y) in enumerate(tqdm(dataloader)):\n",
    "#             X, y = X.to('mps'), y.to('mps')\n",
    "            y_pred = model(X)\n",
    "            test_loss += loss_function(y_pred, y)\n",
    "            test_acc += accuracy_function(y_pred.argmax(dim=1), y)\n",
    "            \n",
    "        test_loss /= len(dataloader)\n",
    "        test_acc /= len(dataloader)\n",
    "        \n",
    "    return test_loss, test_acc*100"
   ]
  },
  {
   "cell_type": "code",
   "execution_count": 22,
   "id": "d7a4dd1d",
   "metadata": {},
   "outputs": [],
   "source": [
    "def train_model(\n",
    "    model: nn.Module,\n",
    "    loss_function: nn.Module,\n",
    "    optim: torch.optim.Optimizer,\n",
    "    accuracy_function,\n",
    "    train_loader: torch.utils.data.DataLoader,\n",
    "    test_loader: torch.utils.data.DataLoader,\n",
    "    epochs: int = 5\n",
    ") -> Dict:\n",
    "    results = {\n",
    "        'train_loss': [],\n",
    "        'train_acc': [],\n",
    "        'test_loss': [],\n",
    "        'test_acc': []\n",
    "    }\n",
    "    \n",
    "    for _ in tqdm(range(epochs)):\n",
    "        train_loss, train_acc = train_step(model=model,\n",
    "                  loss_function=loss_function,\n",
    "                  optim=optim,\n",
    "                  accuracy_function=accuracy_function,\n",
    "                  dataloader=train_loader)\n",
    "        \n",
    "        test_loss, test_acc = test_step(model=model,\n",
    "                 loss_function=loss_function,\n",
    "                 accuracy_function=accuracy_function,\n",
    "                 dataloader=test_loader)\n",
    "        \n",
    "        print(f'Train Loss: {train_loss:.4f} | Train Acc: {train_acc:.2f}% | Test Loss: {test_loss:.4f} | Test Acc: {test_acc:.2f}%')\n",
    "        \n",
    "        results['train_loss'].append(float(train_loss.detach().numpy()))\n",
    "        results['train_acc'].append(float(train_acc.detach().numpy()))\n",
    "        results['test_loss'].append(float(test_loss.detach().numpy()))\n",
    "        results['test_acc'].append(float(test_acc.detach().numpy()))\n",
    "        \n",
    "    return results"
   ]
  },
  {
   "cell_type": "markdown",
   "id": "4275e3f6",
   "metadata": {},
   "source": [
    "## 3. Train the Baseline Model "
   ]
  },
  {
   "cell_type": "code",
   "execution_count": 24,
   "id": "265fdc70",
   "metadata": {},
   "outputs": [
    {
     "data": {
      "text/plain": [
       "<All keys matched successfully>"
      ]
     },
     "execution_count": 24,
     "metadata": {},
     "output_type": "execute_result"
    }
   ],
   "source": [
    "model_0 = AnimalsBaselineModel(input_shape=3, output_shape=10, hidden_units=50)\n",
    "model_0.load_state_dict(torch.load('BaseLineModel.pt'))"
   ]
  },
  {
   "cell_type": "code",
   "execution_count": 25,
   "id": "a36bde6d",
   "metadata": {},
   "outputs": [],
   "source": [
    "# set up optimizer, loss function and accuracy function\n",
    "optimizer = torch.optim.Adam(params=model_0.parameters(),\n",
    "                            lr=0.001)\n",
    "loss_fn = nn.CrossEntropyLoss()\n",
    "acc_fn = Accuracy(task='multiclass', num_classes=len(class_names))"
   ]
  },
  {
   "cell_type": "code",
   "execution_count": 26,
   "id": "7b1de206",
   "metadata": {
    "scrolled": false
   },
   "outputs": [
    {
     "data": {
      "application/vnd.jupyter.widget-view+json": {
       "model_id": "96e7ecea3d6548cc95dd2d6ee2c262c6",
       "version_major": 2,
       "version_minor": 0
      },
      "text/plain": [
       "  0%|          | 0/5 [00:00<?, ?it/s]"
      ]
     },
     "metadata": {},
     "output_type": "display_data"
    },
    {
     "name": "stdout",
     "output_type": "stream",
     "text": [
      "Starting training cycle:\n",
      "------------\n"
     ]
    },
    {
     "data": {
      "application/vnd.jupyter.widget-view+json": {
       "model_id": "6cfe7e47b7ed434f95cb8879b2dd12ad",
       "version_major": 2,
       "version_minor": 0
      },
      "text/plain": [
       "  0%|          | 0/164 [00:04<?, ?it/s]"
      ]
     },
     "metadata": {},
     "output_type": "display_data"
    },
    {
     "name": "stdout",
     "output_type": "stream",
     "text": [
      "Starting testing cycle:\n",
      "--------------\n"
     ]
    },
    {
     "data": {
      "application/vnd.jupyter.widget-view+json": {
       "model_id": "b66bd0ca3502416cbe556fb687b32035",
       "version_major": 2,
       "version_minor": 0
      },
      "text/plain": [
       "  0%|          | 0/42 [00:04<?, ?it/s]"
      ]
     },
     "metadata": {},
     "output_type": "display_data"
    },
    {
     "name": "stdout",
     "output_type": "stream",
     "text": [
      "Train Loss: 2.1973 | Train Acc: 19.57% | Test Loss: 2.0912 | Test Acc: 26.13%\n",
      "Starting training cycle:\n",
      "------------\n"
     ]
    },
    {
     "data": {
      "application/vnd.jupyter.widget-view+json": {
       "model_id": "78c32b985fcf48f28ec607eb8afd822a",
       "version_major": 2,
       "version_minor": 0
      },
      "text/plain": [
       "  0%|          | 0/164 [00:04<?, ?it/s]"
      ]
     },
     "metadata": {},
     "output_type": "display_data"
    },
    {
     "name": "stdout",
     "output_type": "stream",
     "text": [
      "Starting testing cycle:\n",
      "--------------\n"
     ]
    },
    {
     "data": {
      "application/vnd.jupyter.widget-view+json": {
       "model_id": "954ca01d9c31437293f42fa9228ef684",
       "version_major": 2,
       "version_minor": 0
      },
      "text/plain": [
       "  0%|          | 0/42 [00:05<?, ?it/s]"
      ]
     },
     "metadata": {},
     "output_type": "display_data"
    },
    {
     "name": "stdout",
     "output_type": "stream",
     "text": [
      "Train Loss: 1.9818 | Train Acc: 31.21% | Test Loss: 1.7323 | Test Acc: 39.23%\n",
      "Starting training cycle:\n",
      "------------\n"
     ]
    },
    {
     "data": {
      "application/vnd.jupyter.widget-view+json": {
       "model_id": "403ab97b22d64da78f59bd7c6293ab47",
       "version_major": 2,
       "version_minor": 0
      },
      "text/plain": [
       "  0%|          | 0/164 [00:04<?, ?it/s]"
      ]
     },
     "metadata": {},
     "output_type": "display_data"
    },
    {
     "name": "stdout",
     "output_type": "stream",
     "text": [
      "Starting testing cycle:\n",
      "--------------\n"
     ]
    },
    {
     "data": {
      "application/vnd.jupyter.widget-view+json": {
       "model_id": "6b0b1dc2992f4f9b9f48edb070942a10",
       "version_major": 2,
       "version_minor": 0
      },
      "text/plain": [
       "  0%|          | 0/42 [00:04<?, ?it/s]"
      ]
     },
     "metadata": {},
     "output_type": "display_data"
    },
    {
     "name": "stdout",
     "output_type": "stream",
     "text": [
      "Train Loss: 1.7814 | Train Acc: 39.34% | Test Loss: 1.6007 | Test Acc: 45.05%\n",
      "Starting training cycle:\n",
      "------------\n"
     ]
    },
    {
     "data": {
      "application/vnd.jupyter.widget-view+json": {
       "model_id": "4246afe8c8e3401097889dce451d3302",
       "version_major": 2,
       "version_minor": 0
      },
      "text/plain": [
       "  0%|          | 0/164 [00:04<?, ?it/s]"
      ]
     },
     "metadata": {},
     "output_type": "display_data"
    },
    {
     "name": "stdout",
     "output_type": "stream",
     "text": [
      "Starting testing cycle:\n",
      "--------------\n"
     ]
    },
    {
     "data": {
      "application/vnd.jupyter.widget-view+json": {
       "model_id": "a3072bd55ce14ec2ad4a1d8b55983cbb",
       "version_major": 2,
       "version_minor": 0
      },
      "text/plain": [
       "  0%|          | 0/42 [02:44<?, ?it/s]"
      ]
     },
     "metadata": {},
     "output_type": "display_data"
    },
    {
     "name": "stdout",
     "output_type": "stream",
     "text": [
      "Train Loss: 1.6898 | Train Acc: 42.58% | Test Loss: 1.5767 | Test Acc: 44.68%\n",
      "Starting training cycle:\n",
      "------------\n"
     ]
    },
    {
     "data": {
      "application/vnd.jupyter.widget-view+json": {
       "model_id": "6998e5489d7a403eae04b7bddc901c66",
       "version_major": 2,
       "version_minor": 0
      },
      "text/plain": [
       "  0%|          | 0/164 [00:04<?, ?it/s]"
      ]
     },
     "metadata": {},
     "output_type": "display_data"
    },
    {
     "name": "stdout",
     "output_type": "stream",
     "text": [
      "Starting testing cycle:\n",
      "--------------\n"
     ]
    },
    {
     "data": {
      "application/vnd.jupyter.widget-view+json": {
       "model_id": "ed76556f01224ae995aed2a59db59b05",
       "version_major": 2,
       "version_minor": 0
      },
      "text/plain": [
       "  0%|          | 0/42 [00:04<?, ?it/s]"
      ]
     },
     "metadata": {},
     "output_type": "display_data"
    },
    {
     "name": "stdout",
     "output_type": "stream",
     "text": [
      "Train Loss: 1.6324 | Train Acc: 44.18% | Test Loss: 1.4950 | Test Acc: 47.36%\n"
     ]
    }
   ],
   "source": [
    "model_0_result = train_model(model=model_0,\n",
    "                            loss_function=loss_fn,\n",
    "                            accuracy_function=acc_fn,\n",
    "                            optim=optimizer,\n",
    "                            train_loader=train_dataloader,\n",
    "                            test_loader=test_dataloader,\n",
    "                            epochs=5)"
   ]
  },
  {
   "cell_type": "markdown",
   "id": "d892ba44",
   "metadata": {},
   "source": [
    "**Looks like the model is not really performing well enough, let's plot the loss curves.**"
   ]
  },
  {
   "cell_type": "code",
   "execution_count": 26,
   "id": "8417a89c",
   "metadata": {},
   "outputs": [],
   "source": [
    "def plot_curves(result: Dict[str, List[float]]):\n",
    "    \n",
    "    trainloss = result['train_loss']\n",
    "    trainacc = result['train_acc']    \n",
    "    testloss = result['test_loss']\n",
    "    testacc = result['test_acc']\n",
    "    \n",
    "    epochs = range(len(result['train_loss']))\n",
    "    \n",
    "    plt.figure(figsize=(15, 7))\n",
    "    plt.subplot(1, 2, 1)\n",
    "    plt.plot(epochs, trainloss, label='Train Loss')\n",
    "    plt.plot(epochs, testloss, label='Test Loss')\n",
    "    plt.xlabel('Epoch')\n",
    "    plt.title('Loss Curve')\n",
    "    plt.ylim(0, 2.5)\n",
    "    plt.legend()\n",
    "    \n",
    "    plt.subplot(1, 2, 2)\n",
    "    plt.plot(epochs, trainacc, label='Train Acc')\n",
    "    plt.plot(epochs, testacc, label='Test Acc')\n",
    "    plt.xlabel('Epoch')\n",
    "    plt.title('Acc Curve')\n",
    "    plt.ylim((0, 100))\n",
    "    plt.legend()\n",
    "    \n",
    "    plt.show()"
   ]
  },
  {
   "cell_type": "code",
   "execution_count": 32,
   "id": "14a4c96f",
   "metadata": {},
   "outputs": [
    {
     "data": {
      "image/png": "[encoded data removed]",
      "text/plain": [
       "<Figure size 1500x700 with 2 Axes>"
      ]
     },
     "metadata": {},
     "output_type": "display_data"
    }
   ],
   "source": [
    "plot_curves(model_0_result)"
   ]
  },
  {
   "cell_type": "markdown",
   "id": "348bfa95",
   "metadata": {},
   "source": [
    "**Looks like the model is not performing ideally due to severe underfitting. Let's see if we can tune the model for it to do better.**"
   ]
  },
  {
   "cell_type": "code",
   "execution_count": 27,
   "id": "f9c4558c",
   "metadata": {},
   "outputs": [],
   "source": [
    "# making a evaluate function\n",
    "def eval_model(\n",
    "    model: nn.Module,\n",
    "    loss_function: nn.Module,\n",
    "    accuracy_function,\n",
    "    dataloader: torch.utils.data.DataLoader\n",
    "):\n",
    "    loss, acc = 0, 0\n",
    "    model.eval()\n",
    "    print(f'Evaluating...\\n------------')\n",
    "    with torch.inference_mode():\n",
    "        for batch, (X, y) in enumerate(tqdm(dataloader)):\n",
    "            y_logit = model(X)\n",
    "            y_pred = torch.softmax(y_logit.squeeze(), dim=1).argmax(dim=1)\n",
    "            loss += loss_function(y_logit, y)\n",
    "            acc += accuracy_function(y_pred, y)\n",
    "        \n",
    "        loss /= len(dataloader)\n",
    "        acc /= len(dataloader)\n",
    "    return {\n",
    "        'Model Name': model.__class__.__name__,\n",
    "        'Loss': float(loss.detach().numpy()),\n",
    "        'Accuracy': float(acc.detach().numpy())*100\n",
    "    }"
   ]
  },
  {
   "cell_type": "code",
   "execution_count": 34,
   "id": "ea0cde7a",
   "metadata": {
    "scrolled": true
   },
   "outputs": [
    {
     "name": "stdout",
     "output_type": "stream",
     "text": [
      "Evaluating...\n",
      "------------\n"
     ]
    },
    {
     "data": {
      "application/vnd.jupyter.widget-view+json": {
       "model_id": "bb8fd6a119994a949abbe11e390776d3",
       "version_major": 2,
       "version_minor": 0
      },
      "text/plain": [
       "  0%|          | 0/42 [00:05<?, ?it/s]"
      ]
     },
     "metadata": {},
     "output_type": "display_data"
    },
    {
     "data": {
      "text/plain": [
       "{'Model Name': 'AnimalsBaselineModel',\n",
       " 'Loss': 1.494950532913208,\n",
       " 'Accuracy': 47.36394286155701}"
      ]
     },
     "execution_count": 34,
     "metadata": {},
     "output_type": "execute_result"
    }
   ],
   "source": [
    "model_0_eval = eval_model(model=model_0, loss_function=loss_fn, accuracy_function=acc_fn, dataloader=test_dataloader)\n",
    "model_0_eval"
   ]
  },
  {
   "cell_type": "code",
   "execution_count": 35,
   "id": "b6d152da",
   "metadata": {},
   "outputs": [],
   "source": [
    "# saving the baseline model's state dict\n",
    "torch.save(model_0.state_dict(), 'BaseLineModel.pt')"
   ]
  },
  {
   "cell_type": "markdown",
   "id": "e8054b23",
   "metadata": {},
   "source": [
    "## 4. Improving Baseline Model"
   ]
  },
  {
   "cell_type": "code",
   "execution_count": 70,
   "id": "5a26bf4d",
   "metadata": {},
   "outputs": [],
   "source": [
    "class AnimalsModelV1(nn.Module):\n",
    "    def __init__(self, input_shape: int, output_shape: int, hidden_units: int):\n",
    "        super().__init__()\n",
    "        self.block1 = nn.Sequential(\n",
    "            nn.Conv2d(\n",
    "                in_channels=input_shape,\n",
    "                out_channels=hidden_units,\n",
    "                kernel_size=3,\n",
    "                stride=2,\n",
    "                padding=0\n",
    "            ),\n",
    "            nn.ELU(),\n",
    "            nn.Conv2d(\n",
    "                in_channels=hidden_units,\n",
    "                out_channels=hidden_units,\n",
    "                kernel_size=3,\n",
    "                stride=2,\n",
    "                padding=0\n",
    "            ),\n",
    "            nn.ELU(),\n",
    "            nn.MaxPool2d(kernel_size=2)\n",
    "        )\n",
    "        self.block2 = nn.Sequential(\n",
    "            nn.Conv2d(\n",
    "                in_channels=hidden_units,\n",
    "                out_channels=hidden_units,\n",
    "                kernel_size=3,\n",
    "                stride=2,\n",
    "                padding=0\n",
    "            ),\n",
    "            nn.ELU(),\n",
    "            nn.Conv2d(\n",
    "                in_channels=hidden_units,\n",
    "                out_channels=hidden_units,\n",
    "                kernel_size=3,\n",
    "                stride=2,\n",
    "                padding=0\n",
    "            ),\n",
    "            nn.ELU(),\n",
    "            nn.MaxPool2d(kernel_size=2)\n",
    "        )\n",
    "        self.classifier = nn.Sequential(\n",
    "            nn.Flatten(),\n",
    "            nn.Linear(in_features=hidden_units*3*3,\n",
    "                      out_features=output_shape)\n",
    "        )\n",
    "    \n",
    "    def forward(self, x: torch.Tensor) -> torch.Tensor:\n",
    "        return self.classifier(self.block2(self.block1(x)))"
   ]
  },
  {
   "cell_type": "code",
   "execution_count": 71,
   "id": "8be5a520",
   "metadata": {},
   "outputs": [],
   "source": [
    "model_1 = AnimalsModelV1(input_shape=3, output_shape=10, hidden_units=100)"
   ]
  },
  {
   "cell_type": "code",
   "execution_count": 72,
   "id": "5873e6f6",
   "metadata": {},
   "outputs": [
    {
     "data": {
      "text/plain": [
       "AnimalsModelV1(\n",
       "  (block1): Sequential(\n",
       "    (0): Conv2d(3, 100, kernel_size=(3, 3), stride=(2, 2))\n",
       "    (1): ELU(alpha=1.0)\n",
       "    (2): Conv2d(100, 100, kernel_size=(3, 3), stride=(2, 2))\n",
       "    (3): ELU(alpha=1.0)\n",
       "    (4): MaxPool2d(kernel_size=2, stride=2, padding=0, dilation=1, ceil_mode=False)\n",
       "  )\n",
       "  (block2): Sequential(\n",
       "    (0): Conv2d(100, 100, kernel_size=(3, 3), stride=(2, 2))\n",
       "    (1): ELU(alpha=1.0)\n",
       "    (2): Conv2d(100, 100, kernel_size=(3, 3), stride=(2, 2))\n",
       "    (3): ELU(alpha=1.0)\n",
       "    (4): MaxPool2d(kernel_size=2, stride=2, padding=0, dilation=1, ceil_mode=False)\n",
       "  )\n",
       "  (classifier): Sequential(\n",
       "    (0): Flatten(start_dim=1, end_dim=-1)\n",
       "    (1): Linear(in_features=900, out_features=10, bias=True)\n",
       "  )\n",
       ")"
      ]
     },
     "execution_count": 72,
     "metadata": {},
     "output_type": "execute_result"
    }
   ],
   "source": [
    "model_1"
   ]
  },
  {
   "cell_type": "code",
   "execution_count": 73,
   "id": "3f355e28",
   "metadata": {},
   "outputs": [
    {
     "data": {
      "text/plain": [
       "torch.Size([1, 3, 244, 244])"
      ]
     },
     "execution_count": 73,
     "metadata": {},
     "output_type": "execute_result"
    }
   ],
   "source": [
    "dummy.unsqueeze(0).shape"
   ]
  },
  {
   "cell_type": "code",
   "execution_count": 74,
   "id": "b11abb66",
   "metadata": {},
   "outputs": [],
   "source": [
    "with torch.inference_mode():\n",
    "    temp_pred = model_1(dummy.unsqueeze(0))"
   ]
  },
  {
   "cell_type": "code",
   "execution_count": 75,
   "id": "f89ce354",
   "metadata": {},
   "outputs": [
    {
     "data": {
      "text/plain": [
       "('butterfly', 'horse')"
      ]
     },
     "execution_count": 75,
     "metadata": {},
     "output_type": "execute_result"
    }
   ],
   "source": [
    "class_names[test_data[0][1]], class_names[temp_pred.argmax(dim=1)]"
   ]
  },
  {
   "cell_type": "code",
   "execution_count": 76,
   "id": "00c3866d",
   "metadata": {},
   "outputs": [
    {
     "data": {
      "application/vnd.jupyter.widget-view+json": {
       "model_id": "c643ca15f59f4978814d825159472d04",
       "version_major": 2,
       "version_minor": 0
      },
      "text/plain": [
       "  0%|          | 0/5 [00:00<?, ?it/s]"
      ]
     },
     "metadata": {},
     "output_type": "display_data"
    },
    {
     "name": "stdout",
     "output_type": "stream",
     "text": [
      "Starting training cycle:\n",
      "------------\n"
     ]
    },
    {
     "data": {
      "application/vnd.jupyter.widget-view+json": {
       "model_id": "cc67f358952a4ef4bcee923797a959fd",
       "version_major": 2,
       "version_minor": 0
      },
      "text/plain": [
       "  0%|          | 0/164 [00:04<?, ?it/s]"
      ]
     },
     "metadata": {},
     "output_type": "display_data"
    },
    {
     "name": "stdout",
     "output_type": "stream",
     "text": [
      "Starting testing cycle:\n",
      "--------------\n"
     ]
    },
    {
     "data": {
      "application/vnd.jupyter.widget-view+json": {
       "model_id": "c25749e10af8437da1ac8ffd8095078a",
       "version_major": 2,
       "version_minor": 0
      },
      "text/plain": [
       "  0%|          | 0/42 [00:04<?, ?it/s]"
      ]
     },
     "metadata": {},
     "output_type": "display_data"
    },
    {
     "name": "stdout",
     "output_type": "stream",
     "text": [
      "Train Loss: 2.0181 | Train Acc: 28.58% | Test Loss: 1.7353 | Test Acc: 39.64%\n",
      "Starting training cycle:\n",
      "------------\n"
     ]
    },
    {
     "data": {
      "application/vnd.jupyter.widget-view+json": {
       "model_id": "cd6ff161b0b24bfc8e233f90c466eee5",
       "version_major": 2,
       "version_minor": 0
      },
      "text/plain": [
       "  0%|          | 0/164 [00:04<?, ?it/s]"
      ]
     },
     "metadata": {},
     "output_type": "display_data"
    },
    {
     "name": "stdout",
     "output_type": "stream",
     "text": [
      "Starting testing cycle:\n",
      "--------------\n"
     ]
    },
    {
     "data": {
      "application/vnd.jupyter.widget-view+json": {
       "model_id": "51a87606c1574d57983723a072c9dc6c",
       "version_major": 2,
       "version_minor": 0
      },
      "text/plain": [
       "  0%|          | 0/42 [00:04<?, ?it/s]"
      ]
     },
     "metadata": {},
     "output_type": "display_data"
    },
    {
     "name": "stdout",
     "output_type": "stream",
     "text": [
      "Train Loss: 1.7279 | Train Acc: 41.25% | Test Loss: 1.5769 | Test Acc: 45.04%\n",
      "Starting training cycle:\n",
      "------------\n"
     ]
    },
    {
     "data": {
      "application/vnd.jupyter.widget-view+json": {
       "model_id": "d1bd28cbf6cb42d090c3656b5849da42",
       "version_major": 2,
       "version_minor": 0
      },
      "text/plain": [
       "  0%|          | 0/164 [00:04<?, ?it/s]"
      ]
     },
     "metadata": {},
     "output_type": "display_data"
    },
    {
     "name": "stdout",
     "output_type": "stream",
     "text": [
      "Starting testing cycle:\n",
      "--------------\n"
     ]
    },
    {
     "data": {
      "application/vnd.jupyter.widget-view+json": {
       "model_id": "24f4dcf628f9471b935fb68fe313fc89",
       "version_major": 2,
       "version_minor": 0
      },
      "text/plain": [
       "  0%|          | 0/42 [00:04<?, ?it/s]"
      ]
     },
     "metadata": {},
     "output_type": "display_data"
    },
    {
     "name": "stdout",
     "output_type": "stream",
     "text": [
      "Train Loss: 1.5601 | Train Acc: 47.36% | Test Loss: 1.3760 | Test Acc: 53.01%\n",
      "Starting training cycle:\n",
      "------------\n"
     ]
    },
    {
     "data": {
      "application/vnd.jupyter.widget-view+json": {
       "model_id": "1f7501b455634e0f8c27b8a838b3cd7d",
       "version_major": 2,
       "version_minor": 0
      },
      "text/plain": [
       "  0%|          | 0/164 [02:45<?, ?it/s]"
      ]
     },
     "metadata": {},
     "output_type": "display_data"
    },
    {
     "name": "stdout",
     "output_type": "stream",
     "text": [
      "Starting testing cycle:\n",
      "--------------\n"
     ]
    },
    {
     "data": {
      "application/vnd.jupyter.widget-view+json": {
       "model_id": "eca79e0b17c44cb5b1a5ad270e956e6e",
       "version_major": 2,
       "version_minor": 0
      },
      "text/plain": [
       "  0%|          | 0/42 [00:04<?, ?it/s]"
      ]
     },
     "metadata": {},
     "output_type": "display_data"
    },
    {
     "name": "stdout",
     "output_type": "stream",
     "text": [
      "Train Loss: 1.4511 | Train Acc: 51.23% | Test Loss: 1.3009 | Test Acc: 54.91%\n",
      "Starting training cycle:\n",
      "------------\n"
     ]
    },
    {
     "data": {
      "application/vnd.jupyter.widget-view+json": {
       "model_id": "696ba9c8a48e44d292710d599a8aadc9",
       "version_major": 2,
       "version_minor": 0
      },
      "text/plain": [
       "  0%|          | 0/164 [00:04<?, ?it/s]"
      ]
     },
     "metadata": {},
     "output_type": "display_data"
    },
    {
     "name": "stdout",
     "output_type": "stream",
     "text": [
      "Starting testing cycle:\n",
      "--------------\n"
     ]
    },
    {
     "data": {
      "application/vnd.jupyter.widget-view+json": {
       "model_id": "f1e99de8bfcc45a3ac3e581df88e2cda",
       "version_major": 2,
       "version_minor": 0
      },
      "text/plain": [
       "  0%|          | 0/42 [00:04<?, ?it/s]"
      ]
     },
     "metadata": {},
     "output_type": "display_data"
    },
    {
     "name": "stdout",
     "output_type": "stream",
     "text": [
      "Train Loss: 1.3504 | Train Acc: 54.40% | Test Loss: 1.2072 | Test Acc: 59.36%\n"
     ]
    }
   ],
   "source": [
    "optimizer_1 = torch.optim.Adam(params=model_1.parameters(),\n",
    "                              lr=0.0005)\n",
    "model_1_result = train_model(model=model_1,\n",
    "                            loss_function=loss_fn,\n",
    "                            accuracy_function=acc_fn,\n",
    "                            optim=optimizer_1,\n",
    "                            train_loader=train_dataloader,\n",
    "                            test_loader=test_dataloader,\n",
    "                            epochs=5)"
   ]
  },
  {
   "cell_type": "code",
   "execution_count": 78,
   "id": "805b0db8",
   "metadata": {},
   "outputs": [
    {
     "data": {
      "text/plain": [
       "{'train_loss': [2.0181307792663574,\n",
       "  1.7278920412063599,\n",
       "  1.5600827932357788,\n",
       "  1.451099157333374,\n",
       "  1.3503742218017578],\n",
       " 'train_acc': [28.57755470275879,\n",
       "  41.25434112548828,\n",
       "  47.361961364746094,\n",
       "  51.22639465332031,\n",
       "  54.396385192871094],\n",
       " 'test_loss': [1.7353124618530273,\n",
       "  1.5769320726394653,\n",
       "  1.3760299682617188,\n",
       "  1.3009315729141235,\n",
       "  1.2071706056594849],\n",
       " 'test_acc': [39.643314361572266,\n",
       "  45.04411315917969,\n",
       "  53.01263427734375,\n",
       "  54.911094665527344,\n",
       "  59.3609504699707]}"
      ]
     },
     "execution_count": 78,
     "metadata": {},
     "output_type": "execute_result"
    }
   ],
   "source": [
    "model_1_result"
   ]
  },
  {
   "cell_type": "code",
   "execution_count": 79,
   "id": "a74d4a5f",
   "metadata": {},
   "outputs": [
    {
     "data": {
      "image/png": "[encoded data removed]",
      "text/plain": [
       "<Figure size 1500x700 with 2 Axes>"
      ]
     },
     "metadata": {},
     "output_type": "display_data"
    }
   ],
   "source": [
    "plot_curves(model_1_result)"
   ]
  },
  {
   "cell_type": "code",
   "execution_count": 80,
   "id": "94edb8f1",
   "metadata": {},
   "outputs": [
    {
     "name": "stdout",
     "output_type": "stream",
     "text": [
      "Evaluating...\n",
      "------------\n"
     ]
    },
    {
     "data": {
      "application/vnd.jupyter.widget-view+json": {
       "model_id": "dfa458389572452fa989bdaa28f1ef8b",
       "version_major": 2,
       "version_minor": 0
      },
      "text/plain": [
       "  0%|          | 0/42 [00:04<?, ?it/s]"
      ]
     },
     "metadata": {},
     "output_type": "display_data"
    },
    {
     "data": {
      "text/plain": [
       "{'Model Name': 'AnimalsModelV1',\n",
       " 'Loss': 1.2071706056594849,\n",
       " 'Accuracy': 59.36095118522644}"
      ]
     },
     "execution_count": 80,
     "metadata": {},
     "output_type": "execute_result"
    }
   ],
   "source": [
    "model_1_eval = eval_model(model=model_1,\n",
    "                         loss_function=loss_fn,\n",
    "                         accuracy_function=acc_fn,\n",
    "                         dataloader=test_dataloader)\n",
    "model_1_eval"
   ]
  },
  {
   "cell_type": "markdown",
   "id": "998d180d",
   "metadata": {},
   "source": [
    "**Looks like the model is now better and can be improved even further if trained longer.**"
   ]
  },
  {
   "cell_type": "markdown",
   "id": "c2e17d03",
   "metadata": {},
   "source": [
    "## 5. Using Pre-trained Model"
   ]
  },
  {
   "cell_type": "markdown",
   "id": "379bd027",
   "metadata": {},
   "source": [
    "### ConvNext"
   ]
  },
  {
   "cell_type": "code",
   "execution_count": 86,
   "id": "46404564",
   "metadata": {},
   "outputs": [],
   "source": [
    "from torchvision.models import convnext_base, ConvNeXt_Base_Weights\n",
    "from torchinfo import summary"
   ]
  },
  {
   "cell_type": "code",
   "execution_count": 87,
   "id": "1a743d85",
   "metadata": {},
   "outputs": [],
   "source": [
    "model_2 = convnext_base(weights=ConvNeXt_Base_Weights.DEFAULT)"
   ]
  },
  {
   "cell_type": "code",
   "execution_count": 91,
   "id": "0a0090ad",
   "metadata": {
    "scrolled": true
   },
   "outputs": [
    {
     "data": {
      "text/plain": [
       "================================================================================\n",
       "Layer (type (var_name))                                 Param #\n",
       "================================================================================\n",
       "ConvNeXt (ConvNeXt)                                     --\n",
       "├─Sequential (features)                                 --\n",
       "│    └─Conv2dNormActivation (0)                         --\n",
       "│    │    └─Conv2d (0)                                  (6,272)\n",
       "│    │    └─LayerNorm2d (1)                             (256)\n",
       "│    └─Sequential (1)                                   --\n",
       "│    │    └─CNBlock (0)                                 (138,496)\n",
       "│    │    └─CNBlock (1)                                 (138,496)\n",
       "│    │    └─CNBlock (2)                                 (138,496)\n",
       "│    └─Sequential (2)                                   --\n",
       "│    │    └─LayerNorm2d (0)                             (256)\n",
       "│    │    └─Conv2d (1)                                  (131,328)\n",
       "│    └─Sequential (3)                                   --\n",
       "│    │    └─CNBlock (0)                                 (539,136)\n",
       "│    │    └─CNBlock (1)                                 (539,136)\n",
       "│    │    └─CNBlock (2)                                 (539,136)\n",
       "│    └─Sequential (4)                                   --\n",
       "│    │    └─LayerNorm2d (0)                             (512)\n",
       "│    │    └─Conv2d (1)                                  (524,800)\n",
       "│    └─Sequential (5)                                   --\n",
       "│    │    └─CNBlock (0)                                 (2,126,848)\n",
       "│    │    └─CNBlock (1)                                 (2,126,848)\n",
       "│    │    └─CNBlock (2)                                 (2,126,848)\n",
       "│    │    └─CNBlock (3)                                 (2,126,848)\n",
       "│    │    └─CNBlock (4)                                 (2,126,848)\n",
       "│    │    └─CNBlock (5)                                 (2,126,848)\n",
       "│    │    └─CNBlock (6)                                 (2,126,848)\n",
       "│    │    └─CNBlock (7)                                 (2,126,848)\n",
       "│    │    └─CNBlock (8)                                 (2,126,848)\n",
       "│    │    └─CNBlock (9)                                 (2,126,848)\n",
       "│    │    └─CNBlock (10)                                (2,126,848)\n",
       "│    │    └─CNBlock (11)                                (2,126,848)\n",
       "│    │    └─CNBlock (12)                                (2,126,848)\n",
       "│    │    └─CNBlock (13)                                (2,126,848)\n",
       "│    │    └─CNBlock (14)                                (2,126,848)\n",
       "│    │    └─CNBlock (15)                                (2,126,848)\n",
       "│    │    └─CNBlock (16)                                (2,126,848)\n",
       "│    │    └─CNBlock (17)                                (2,126,848)\n",
       "│    │    └─CNBlock (18)                                (2,126,848)\n",
       "│    │    └─CNBlock (19)                                (2,126,848)\n",
       "│    │    └─CNBlock (20)                                (2,126,848)\n",
       "│    │    └─CNBlock (21)                                (2,126,848)\n",
       "│    │    └─CNBlock (22)                                (2,126,848)\n",
       "│    │    └─CNBlock (23)                                (2,126,848)\n",
       "│    │    └─CNBlock (24)                                (2,126,848)\n",
       "│    │    └─CNBlock (25)                                (2,126,848)\n",
       "│    │    └─CNBlock (26)                                (2,126,848)\n",
       "│    └─Sequential (6)                                   --\n",
       "│    │    └─LayerNorm2d (0)                             (1,024)\n",
       "│    │    └─Conv2d (1)                                  (2,098,176)\n",
       "│    └─Sequential (7)                                   --\n",
       "│    │    └─CNBlock (0)                                 (8,448,000)\n",
       "│    │    └─CNBlock (1)                                 (8,448,000)\n",
       "│    │    └─CNBlock (2)                                 (8,448,000)\n",
       "├─AdaptiveAvgPool2d (avgpool)                           --\n",
       "├─Sequential (classifier)                               --\n",
       "│    └─LayerNorm2d (0)                                  2,048\n",
       "│    └─Flatten (1)                                      --\n",
       "│    └─Linear (2)                                       1,025,000\n",
       "================================================================================\n",
       "Total params: 88,591,464\n",
       "Trainable params: 1,027,048\n",
       "Non-trainable params: 87,564,416\n",
       "================================================================================"
      ]
     },
     "execution_count": 91,
     "metadata": {},
     "output_type": "execute_result"
    }
   ],
   "source": [
    "summary(model_2, row_settings=['var_names'])"
   ]
  },
  {
   "cell_type": "code",
   "execution_count": 97,
   "id": "0574652b",
   "metadata": {},
   "outputs": [],
   "source": [
    "for params in model_2.features.parameters():\n",
    "    params.requires_grad = False"
   ]
  },
  {
   "cell_type": "code",
   "execution_count": 98,
   "id": "e253a0c8",
   "metadata": {},
   "outputs": [],
   "source": [
    "model_2.classifier = nn.Sequential(\n",
    "    nn.Flatten(),\n",
    "    nn.Linear(in_features=1024, out_features=10)\n",
    ")\n",
    "\n",
    "weights = ConvNeXt_Base_Weights.DEFAULT\n",
    "auto_transform = weights.transforms()\n"
   ]
  },
  {
   "cell_type": "code",
   "execution_count": 99,
   "id": "4d16882c",
   "metadata": {},
   "outputs": [],
   "source": [
    "test_data_pre = datasets.ImageFolder(\n",
    "    root=test_dir,\n",
    "    transform=auto_transform,\n",
    "    target_transform=None\n",
    ")"
   ]
  },
  {
   "cell_type": "code",
   "execution_count": 100,
   "id": "1fb28449",
   "metadata": {},
   "outputs": [],
   "source": [
    "test_dataloader_pre = DataLoader(\n",
    "    dataset=test_data,\n",
    "    batch_size=BATCH_SIZE,\n",
    "    num_workers=os.cpu_count(),\n",
    "    shuffle=False\n",
    ")"
   ]
  },
  {
   "cell_type": "code",
   "execution_count": 101,
   "id": "692cdc39",
   "metadata": {},
   "outputs": [
    {
     "name": "stdout",
     "output_type": "stream",
     "text": [
      "Evaluating...\n",
      "------------\n"
     ]
    },
    {
     "data": {
      "application/vnd.jupyter.widget-view+json": {
       "model_id": "80aac382740a43cba938e5b8fe5086d9",
       "version_major": 2,
       "version_minor": 0
      },
      "text/plain": [
       "  0%|          | 0/42 [00:04<?, ?it/s]"
      ]
     },
     "metadata": {},
     "output_type": "display_data"
    },
    {
     "data": {
      "text/plain": [
       "{'Model Name': 'ConvNeXt',\n",
       " 'Loss': 2.29766845703125,\n",
       " 'Accuracy': 17.98735111951828}"
      ]
     },
     "execution_count": 101,
     "metadata": {},
     "output_type": "execute_result"
    }
   ],
   "source": [
    "model_2_eval = eval_model(model=model_2,\n",
    "                         loss_function=loss_fn,\n",
    "                         accuracy_function=acc_fn,\n",
    "                         dataloader=test_dataloader_pre)\n",
    "model_2_eval"
   ]
  },
  {
   "cell_type": "code",
   "execution_count": null,
   "id": "cb66fd0f",
   "metadata": {},
   "outputs": [],
   "source": []
  }
 ],
 "metadata": {
  "kernelspec": {
   "display_name": "Python 3 (ipykernel)",
   "language": "python",
   "name": "python3"
  },
  "language_info": {
   "codemirror_mode": {
    "name": "ipython",
    "version": 3
   },
   "file_extension": ".py",
   "mimetype": "text/x-python",
   "name": "python",
   "nbconvert_exporter": "python",
   "pygments_lexer": "ipython3",
   "version": "3.10.2"
  }
 },
 "nbformat": 4,
 "nbformat_minor": 5
}
